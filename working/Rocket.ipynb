{
 "cells": [
  {
   "cell_type": "markdown",
   "metadata": {},
   "source": [
    "# Modélisation d'un vol d'une fusée"
   ]
  },
  {
   "cell_type": "markdown",
   "metadata": {
    "collapsed": true
   },
   "source": [
    "Nous allons étudier la trajectoire de vol d'une fusée dans l'air. En utilisant le langage Python nous allons la calculer numériquement. L'équation de la fusé est decrite comme suit\n",
    "\\begin{align}\n",
    "\\frac{dh}{dt}& = v \\\\\n",
    "(m_s+m_p) \\frac{dv}{dt}& = -(m_s+m_p)g + \\dot{m}_pv_e - \\frac{1}{2}\\rho v|v|AC_D\n",
    "\\end{align}\n",
    "\n",
    "\n",
    "$m_s = 50kg$ est la masse de fusée hors carburant\n",
    "\n",
    "$g = 9.81 \\frac{m}{s^2}$ est l'accélération du à la gravité supposée constante\n",
    "\n",
    "$\\rho = 1.091 \\frac{kg}{m^3}$ est la densité de l'air supposée constante\n",
    "\n",
    "$A = \\pi r^2$ est l'air de la section transverse de la fusée et vaut $r = 0.5 m$\n",
    "\n",
    "$v_e = 325 \\frac{m}{s}$ est la vitesse d'éjection du gaz à la sortie de la tuyère\n",
    "\n",
    "$C_D = 0.15 $ est le coefficient de trainer\n",
    "\n",
    "On suposera aussi que la masse du carburant enbarqué évolue selon la loi \n",
    "$$mp = mp - \\int^t_0 20 d\\tau$$ où 20 est la consomation de kilo de carburant par seconde"
   ]
  },
  {
   "cell_type": "code",
   "execution_count": 4,
   "metadata": {
    "collapsed": false
   },
   "outputs": [
    {
     "ename": "NameError",
     "evalue": "name 'math' is not defined",
     "output_type": "error",
     "traceback": [
      "\u001b[1;31m---------------------------------------------------------------------------\u001b[0m",
      "\u001b[1;31mNameError\u001b[0m                                 Traceback (most recent call last)",
      "\u001b[1;32m<ipython-input-4-3da82136aec7>\u001b[0m in \u001b[0;36m<module>\u001b[1;34m()\u001b[0m\n\u001b[0;32m     11\u001b[0m \u001b[0mp\u001b[0m \u001b[1;33m=\u001b[0m \u001b[1;36m1.091\u001b[0m\u001b[1;33m\u001b[0m\u001b[0m\n\u001b[0;32m     12\u001b[0m \u001b[0mr\u001b[0m \u001b[1;33m=\u001b[0m \u001b[1;36m0.5\u001b[0m\u001b[1;33m\u001b[0m\u001b[0m\n\u001b[1;32m---> 13\u001b[1;33m \u001b[0mA\u001b[0m \u001b[1;33m=\u001b[0m \u001b[0mmath\u001b[0m\u001b[1;33m.\u001b[0m\u001b[0mpi\u001b[0m\u001b[1;33m*\u001b[0m\u001b[1;33m(\u001b[0m\u001b[0mr\u001b[0m\u001b[1;33m**\u001b[0m\u001b[1;36m2\u001b[0m\u001b[1;33m)\u001b[0m\u001b[1;33m\u001b[0m\u001b[0m\n\u001b[0m\u001b[0;32m     14\u001b[0m \u001b[0mve\u001b[0m \u001b[1;33m=\u001b[0m \u001b[1;36m325\u001b[0m\u001b[1;33m\u001b[0m\u001b[0m\n\u001b[0;32m     15\u001b[0m \u001b[0mCd\u001b[0m \u001b[1;33m=\u001b[0m \u001b[1;36m0.15\u001b[0m\u001b[1;33m\u001b[0m\u001b[0m\n",
      "\u001b[1;31mNameError\u001b[0m: name 'math' is not defined"
     ]
    }
   ],
   "source": [
    "\"\"\"\n",
    "importation des librairies\n",
    "\"\"\"\n",
    "\n",
    "\"\"\"\n",
    "initialisation des variables\n",
    "\"\"\"\n",
    "step = 0.1\n",
    "ms = 50\n",
    "g = 9.81\n",
    "p = 1.091\n",
    "r = 0.5\n",
    "A = math.pi*(r**2)\n",
    "ve = 325\n",
    "Cd = 0.15\n",
    "mp =  100\n",
    "finaltime = 50\n",
    "\n",
    "hn = 0\n",
    "vi = 0\n",
    "i = 0\n",
    "t = [] \n",
    "v = []\n",
    "h = []\n",
    "m = []\n",
    "\n",
    "\n",
    "while i <= finaltime+step:\n",
    "    v.append(vi)\n",
    "    h.append(hn)\n",
    "    t.append(i)\n",
    "    m.append(mp)\n",
    "    i = i+step\n",
    "    if hn < 0: # on arrete la simultion si la hauteur devient négative\n",
    "        break\n",
    "    if i >= 5: # cette boucle if est la pour tenir compte de la masse variable en effet apres 5 seconde il n'y a plus de carburant\n",
    "        mp = 0;\n",
    "        vi = (-g+(-0.5*vi*p*abs(vi)*A*Cd)/(ms+mp))*step + vi\n",
    "    else :\n",
    "        mp = mp - 20*step\n",
    "        vi = (((-1)*(ms+mp)*g+20*ve-0.5*vi*p*abs(vi)*A*Cd)/(ms+mp))*step + vi\n",
    "    hn = vi * step + hn\n",
    "    \n",
    "\"\"\"\n",
    "Impression des resultats\n",
    "\"\"\"\n",
    "mv = max(v)\n",
    "maxv = [i for i, j in enumerate(v) if j == mv]\n",
    "\n",
    "\n",
    "print(\"vitesse est maximale en\"+str(maxv[0]*step)+\"et vaut\"+str(v[maxv[0]])+\n",
    "\"ou la hauteur vaut \" + str(h[maxv[0]]))\n",
    "mh = max(h)\n",
    "maxh  = [i for i, j in enumerate(h) if j == mh]\n",
    "\n",
    "print(\"la hauteur est maximale en\"+str(maxh[0]*step)+\"et vaut\"+str(h[maxh[0]])+\n",
    "\"ou la vitesse vaut \" + str(v[maxh[0]]))\n",
    "# print(str(h[int(res)])+ \"hauteur a v max\")\n",
    "res = v[-1]+v[-2]\n",
    "res = res/2\n",
    "print(\"la fusee touche le sol en t =\" + str((len(h)-1)*step))\n",
    "print(\"avec la vitesse\" +str(res))\n",
    "\n",
    "\"\"\"\n",
    "Impression des graphiques\n",
    "\"\"\"\n",
    "matplotlib.py.plot(t,v, label= \"vitesse\")\n",
    "plt.legend()\n",
    "plt.show()\n",
    "plt.plot(t,h,label=\"hauteur\")\n",
    "plt.legend()\n",
    "plt.show()\n"
   ]
  },
  {
   "cell_type": "raw",
   "metadata": {},
   "source": [
    "Tout d'abord il faut importer les librairies pour utilisé des fonctions spéciales pour faire des figures ainsi que certaines valeurs prédéfinies. "
   ]
  }
 ],
 "metadata": {
  "kernelspec": {
   "display_name": "Python 3",
   "language": "python",
   "name": "python3"
  },
  "language_info": {
   "codemirror_mode": {
    "name": "ipython",
    "version": 3
   },
   "file_extension": ".py",
   "mimetype": "text/x-python",
   "name": "python",
   "nbconvert_exporter": "python",
   "pygments_lexer": "ipython3",
   "version": "3.4.3"
  }
 },
 "nbformat": 4,
 "nbformat_minor": 0
}
